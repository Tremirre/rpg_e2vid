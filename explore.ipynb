{
 "cells": [
  {
   "cell_type": "code",
   "execution_count": 1,
   "metadata": {},
   "outputs": [],
   "source": [
    "import torch\n",
    "import random\n",
    "\n",
    "random.seed(0)\n",
    "torch.manual_seed(0)\n",
    "\n",
    "device = torch.device(\"cuda\")"
   ]
  },
  {
   "cell_type": "code",
   "execution_count": 2,
   "metadata": {},
   "outputs": [],
   "source": [
    "import pathlib\n",
    "import training.dataset\n",
    "import training.vis\n",
    "import training.loss\n",
    "import training.run\n",
    "\n",
    "from model.model import E2VID\n",
    "\n",
    "data = training.dataset.Loaders.from_path(pathlib.Path(\"../out/\"), device=device, preload=True, cache_size=24)"
   ]
  },
  {
   "cell_type": "code",
   "execution_count": 3,
   "metadata": {},
   "outputs": [
    {
     "name": "stdout",
     "output_type": "stream",
     "text": [
      "Using UpsampleConvLayer (slow, but no checkerboard artefacts)\n"
     ]
    }
   ],
   "source": [
    "model = E2VID(config={\"num_bins\": 6}).to(device)\n",
    "loss = training.loss.SSIMLoss(n_channels=1).to(device)\n",
    "optim = torch.optim.Adam(model.parameters(), lr=1e-3) # type: ignore"
   ]
  },
  {
   "cell_type": "code",
   "execution_count": 4,
   "metadata": {},
   "outputs": [
    {
     "data": {
      "text/plain": [
       "torch.Size([1, 1, 256, 256])"
      ]
     },
     "execution_count": 4,
     "metadata": {},
     "output_type": "execute_result"
    }
   ],
   "source": [
    "mock_input = torch.zeros((1, 6, 256, 256), device=device)\n",
    "model(mock_input)[0].shape"
   ]
  },
  {
   "cell_type": "code",
   "execution_count": 5,
   "metadata": {},
   "outputs": [
    {
     "name": "stderr",
     "output_type": "stream",
     "text": [
      "Training:  31%|███       | 68/220 [10:29<26:17, 10.38s/it]"
     ]
    }
   ],
   "source": [
    "runner = training.run.Runner(model, optimizer=optim, criterion=loss)\n",
    "runner.train(data.train, data.val, epochs=10)"
   ]
  }
 ],
 "metadata": {
  "kernelspec": {
   "display_name": "dviz",
   "language": "python",
   "name": "python3"
  },
  "language_info": {
   "codemirror_mode": {
    "name": "ipython",
    "version": 3
   },
   "file_extension": ".py",
   "mimetype": "text/x-python",
   "name": "python",
   "nbconvert_exporter": "python",
   "pygments_lexer": "ipython3",
   "version": "3.12.0"
  }
 },
 "nbformat": 4,
 "nbformat_minor": 2
}
